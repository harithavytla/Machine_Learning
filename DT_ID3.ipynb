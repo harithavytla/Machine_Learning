{
 "cells": [
  {
   "cell_type": "code",
   "execution_count": 75,
   "metadata": {},
   "outputs": [],
   "source": [
    "import pandas as pd\n",
    "import numpy as np\n",
    "import sklearn\n",
    "import math\n",
    "from sklearn import datasets"
   ]
  },
  {
   "cell_type": "code",
   "execution_count": 76,
   "metadata": {},
   "outputs": [
    {
     "name": "stderr",
     "output_type": "stream",
     "text": [
      "C:\\Users\\bnama\\Anaconda3\\lib\\site-packages\\ipykernel_launcher.py:3: SettingWithCopyWarning: \n",
      "A value is trying to be set on a copy of a slice from a DataFrame\n",
      "\n",
      "See the caveats in the documentation: http://pandas.pydata.org/pandas-docs/stable/indexing.html#indexing-view-versus-copy\n",
      "  This is separate from the ipykernel package so we can avoid doing imports until\n",
      "C:\\Users\\bnama\\Anaconda3\\lib\\site-packages\\ipykernel_launcher.py:4: SettingWithCopyWarning: \n",
      "A value is trying to be set on a copy of a slice from a DataFrame\n",
      "\n",
      "See the caveats in the documentation: http://pandas.pydata.org/pandas-docs/stable/indexing.html#indexing-view-versus-copy\n",
      "  after removing the cwd from sys.path.\n",
      "C:\\Users\\bnama\\Anaconda3\\lib\\site-packages\\ipykernel_launcher.py:5: SettingWithCopyWarning: \n",
      "A value is trying to be set on a copy of a slice from a DataFrame\n",
      "\n",
      "See the caveats in the documentation: http://pandas.pydata.org/pandas-docs/stable/indexing.html#indexing-view-versus-copy\n",
      "  \"\"\"\n"
     ]
    }
   ],
   "source": [
    "#Loading dataset into iris. Data into X and target label into Y\n",
    "iris_df = pd.read_csv('https://raw.githubusercontent.com/plotly/datasets/master/iris.csv')\n",
    "iris_df.Name[iris_df.Name == 'Iris-setosa'] = 0\n",
    "iris_df.Name[iris_df.Name == 'Iris-versicolor'] = 1\n",
    "iris_df.Name[iris_df.Name == 'Iris-virginica'] = 1"
   ]
  },
  {
   "cell_type": "code",
   "execution_count": 78,
   "metadata": {},
   "outputs": [
    {
     "name": "stdout",
     "output_type": "stream",
     "text": [
      "Bins : 5\n",
      "Bin Counts : [32 41 42 24 11]\n",
      "Bin Centers : [4.3  5.02 5.74 6.46 7.18 7.9 ]\n",
      "Total : 150\n",
      "Probabilities : [0.21333333 0.27333333 0.28       0.16       0.07333333]\n",
      "Check_Probability : 1.0\n",
      "Entropy : [0.47548132 0.51147956 0.51422035 0.42301699 0.27642172]\n",
      "---------------------------------------------------------------------------------\n",
      "Bins : 10\n",
      "Bin Counts : [ 9 23 14 27 16 26 18  6  5  6]\n",
      "Bin Centers : [4.3  4.66 5.02 5.38 5.74 6.1  6.46 6.82 7.18 7.54 7.9 ]\n",
      "Total : 150\n",
      "Probabilities : [0.06       0.15333333 0.09333333 0.18       0.10666667 0.17333333\n",
      " 0.12       0.04       0.03333333 0.04      ]\n",
      "Check_Probability : 1.0\n",
      "Entropy : [0.24353362 0.41480603 0.31933662 0.44530761 0.34440733 0.43825236\n",
      " 0.36706724 0.18575425 0.16356302 0.18575425]\n",
      "---------------------------------------------------------------------------------\n",
      "Bins : 15\n",
      "Bin Counts : [ 5  6 21 13  7 21 10 16 16  7 15  2  5  1  5]\n",
      "Bin Centers : [4.3  4.54 4.78 5.02 5.26 5.5  5.74 5.98 6.22 6.46 6.7  6.94 7.18 7.42\n",
      " 7.66 7.9 ]\n",
      "Total : 150\n",
      "Probabilities : [0.03333333 0.04       0.14       0.08666667 0.04666667 0.14\n",
      " 0.06666667 0.10666667 0.10666667 0.04666667 0.1        0.01333333\n",
      " 0.03333333 0.00666667 0.03333333]\n",
      "Check_Probability : 1.0000000000000002\n",
      "Entropy : [0.16356302 0.18575425 0.39711018 0.30579284 0.20633498 0.39711018\n",
      " 0.26045937 0.34440733 0.34440733 0.20633498 0.33219281 0.08305092\n",
      " 0.16356302 0.04819212 0.16356302]\n",
      "---------------------------------------------------------------------------------\n",
      "Bins : 20\n",
      "Bin Counts : [ 4  5  7 16  9  5 13 14 10  6 10 16  7 11  4  2  4  1  5  1]\n",
      "Bin Centers : [4.3  4.48 4.66 4.84 5.02 5.2  5.38 5.56 5.74 5.92 6.1  6.28 6.46 6.64\n",
      " 6.82 7.   7.18 7.36 7.54 7.72 7.9 ]\n",
      "Total : 150\n",
      "Probabilities : [0.02666667 0.03333333 0.04666667 0.10666667 0.06       0.03333333\n",
      " 0.08666667 0.09333333 0.06666667 0.04       0.06666667 0.10666667\n",
      " 0.04666667 0.07333333 0.02666667 0.01333333 0.02666667 0.00666667\n",
      " 0.03333333 0.00666667]\n",
      "Check_Probability : 1.0\n",
      "Entropy : [0.13943517 0.16356302 0.20633498 0.34440733 0.24353362 0.16356302\n",
      " 0.30579284 0.31933662 0.26045937 0.18575425 0.26045937 0.34440733\n",
      " 0.20633498 0.27642172 0.13943517 0.08305092 0.13943517 0.04819212\n",
      " 0.16356302 0.04819212]\n",
      "---------------------------------------------------------------------------------\n"
     ]
    }
   ],
   "source": [
    "for bin in range(5,25,5):\n",
    "    print(\"Bins : \" + str(bin))\n",
    "    count, bin_edges = np.histogram(iris_df.iloc[:,0],bins=bin)\n",
    "    print(\"Bin Counts : \" + str(count))\n",
    "    print(\"Bin Centers : \" + str(bin_edges))\n",
    "    print(\"Total : \" + str(sum(count)))\n",
    "    probability = count/sum(count)\n",
    "    print(\"Probabilities : \" + str(probability))\n",
    "    print(\"Check_Probability : \" + str(sum(probability)))\n",
    "    log = [math.log2(i) for i in probability]\n",
    "    entropy = probability * log * -1\n",
    "    print (\"Entropy : \" + str(entropy))\n",
    "    print(\"---------------------------------------------------------------------------------\")"
   ]
  },
  {
   "cell_type": "code",
   "execution_count": null,
   "metadata": {},
   "outputs": [],
   "source": []
  },
  {
   "cell_type": "code",
   "execution_count": null,
   "metadata": {},
   "outputs": [],
   "source": []
  },
  {
   "cell_type": "code",
   "execution_count": null,
   "metadata": {},
   "outputs": [],
   "source": []
  }
 ],
 "metadata": {
  "kernelspec": {
   "display_name": "Python 3",
   "language": "python",
   "name": "python3"
  },
  "language_info": {
   "codemirror_mode": {
    "name": "ipython",
    "version": 3
   },
   "file_extension": ".py",
   "mimetype": "text/x-python",
   "name": "python",
   "nbconvert_exporter": "python",
   "pygments_lexer": "ipython3",
   "version": "3.7.3"
  }
 },
 "nbformat": 4,
 "nbformat_minor": 2
}
