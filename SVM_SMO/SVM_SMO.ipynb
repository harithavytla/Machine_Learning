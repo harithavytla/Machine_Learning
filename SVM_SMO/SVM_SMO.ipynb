{
 "cells": [
  {
   "cell_type": "code",
   "execution_count": 47,
   "metadata": {},
   "outputs": [],
   "source": [
    "import numpy as np\n",
    "import matplotlib.pyplot as plt\n",
    "from sklearn.datasets import make_blobs, make_circles, make_moons\n",
    "from sklearn.preprocessing import StandardScaler\n",
    "from sklearn.model_selection import train_test_split,cross_val_score"
   ]
  },
  {
   "cell_type": "code",
   "execution_count": 48,
   "metadata": {},
   "outputs": [],
   "source": [
    "#Container class for the model used for SMO\n",
    "\n",
    "class SMO:\n",
    "    def __init__(self, X, y, C, kernel, alpha, b, errors):\n",
    "        self.X = X                \n",
    "        self.y = y               \n",
    "        self.C = C               \n",
    "        self.kernel = kernel     \n",
    "        self.alpha = alpha       \n",
    "        self.b = b               \n",
    "        self.errors = errors     \n",
    "        self._obj = []           \n",
    "        self.m = len(self.X)     "
   ]
  },
  {
   "cell_type": "code",
   "execution_count": 49,
   "metadata": {},
   "outputs": [],
   "source": [
    "#Linear Kernel K(xi,xj)=xi·xj\n",
    "\n",
    "def kernel(x, y, b=0):\n",
    "    return np.dot(x,y.T) + b "
   ]
  },
  {
   "cell_type": "code",
   "execution_count": 50,
   "metadata": {},
   "outputs": [],
   "source": [
    "#Objective function for optimisation\n",
    "\"\"\"Input :\n",
    "    `alpha`: vector of Lagrangian multipliers\n",
    "    `target`: vector of class labels (-1 or 1) for training data\n",
    "    `kernel`: kernel function\n",
    "    `X_train`: training data for model.\n",
    "    \n",
    "    Output :\n",
    "    SVM objective function based in the input model\"\"\"\n",
    "\n",
    "def objective(alpha, target, kernel, X_train):\n",
    "    return np.sum(alpha) - 0.5 * np.sum((target[:, None] * target[None, :]) * kernel(X_train, X_train) * (alpha[:, None] * alpha[None, :]))"
   ]
  },
  {
   "cell_type": "code",
   "execution_count": 51,
   "metadata": {},
   "outputs": [],
   "source": [
    "#Decision Function which decides the label\n",
    "\"\"\"Applies the SVM decision function to the input feature vectors in `x_test`.\"\"\"\n",
    "\n",
    "def decision(alpha, target, kernel, X_train, x_test, b):\n",
    "    result = np.dot((alpha * target) ,kernel(X_train, x_test)) - b\n",
    "    return result"
   ]
  },
  {
   "cell_type": "code",
   "execution_count": 52,
   "metadata": {},
   "outputs": [],
   "source": [
    "#Train function\n",
    "\"\"\"This function implements selection of the first  α to optimize via\n",
    "   the first choice heuristic and passes this value to examine_example().\n",
    "   The train() function uses a while loop to iterate through the  α  values\n",
    "   to return the optimized  α  vector\"\"\"\n",
    "\n",
    "def train(model):\n",
    "    \n",
    "    numChanged = 0\n",
    "    examineAll = 1\n",
    "\n",
    "    while(numChanged > 0) or (examineAll):\n",
    "        numChanged = 0\n",
    "        if examineAll:\n",
    "            # loop over all training examples\n",
    "            for i in range(model.alpha.shape[0]):\n",
    "                examine_result, model = examine_example(i, model)\n",
    "                numChanged += examine_result\n",
    "                if examine_result:\n",
    "                    obj_result = objective(model.alpha, model.y, model.kernel, model.X)\n",
    "                    model._obj.append(obj_result)\n",
    "        else:\n",
    "            # loop over examples where alphas are not already at their limits\n",
    "            for i in np.where((model.alpha != 0) & (model.alpha != model.C))[0]:\n",
    "                examine_result, model = examine_example(i, model)\n",
    "                numChanged += examine_result\n",
    "                if examine_result:\n",
    "                    obj_result = objective(model.alpha, model.y, model.kernel, model.X)\n",
    "                    model._obj.append(obj_result)\n",
    "        if examineAll == 1:\n",
    "            examineAll = 0\n",
    "        elif numChanged == 0:\n",
    "            examineAll = 1\n",
    "        \n",
    "    return model"
   ]
  },
  {
   "cell_type": "code",
   "execution_count": 53,
   "metadata": {},
   "outputs": [],
   "source": [
    "#Train function\n",
    "\"\"\"This function implements selection of the first  α to optimize via\n",
    "   the first choice heuristic and passes this value to examine_example().\n",
    "   The train() function uses a while loop to iterate through the  α  values\n",
    "   to return the optimized  α  vector\"\"\"\n",
    "\n",
    "def train(model):\n",
    "    \n",
    "    numChanged = 0\n",
    "    examineAll = 1\n",
    "\n",
    "    while(numChanged > 0) or (examineAll):\n",
    "        numChanged = 0\n",
    "        if examineAll:\n",
    "            # loop over all training examples\n",
    "            for i in range(model.alpha.shape[0]):\n",
    "                examine_result, model = examine_example(i, model)\n",
    "                numChanged += examine_result\n",
    "                if examine_result:\n",
    "                    obj_result = objective(model.alpha, model.y, model.kernel, model.X)\n",
    "                    model._obj.append(obj_result)\n",
    "        else:\n",
    "            # loop over examples where alphas are not already at their limits\n",
    "            for i in np.where((model.alpha != 0) & (model.alpha != model.C))[0]:\n",
    "                examine_result, model = examine_example(i, model)\n",
    "                numChanged += examine_result\n",
    "                if examine_result:\n",
    "                    obj_result = objective(model.alpha, model.y, model.kernel, model.X)\n",
    "                    model._obj.append(obj_result)\n",
    "        if examineAll == 1:\n",
    "            examineAll = 0\n",
    "        elif numChanged == 0:\n",
    "            examineAll = 1\n",
    "        \n",
    "    return model"
   ]
  },
  {
   "cell_type": "code",
   "execution_count": 54,
   "metadata": {},
   "outputs": [],
   "source": [
    "#Examine function\n",
    "\"\"\"Then examine_example() implements the second choice heuristic\n",
    "to choose the second  α  to optimize, and passes the index of both\n",
    "α  values to take_step()\"\"\"\n",
    "\n",
    "def examine_example(i2, model):\n",
    "    y2 = model.y[i2]\n",
    "    alph2 = model.alpha[i2]\n",
    "    E2 = model.errors[i2]\n",
    "    r2 = E2 * y2\n",
    "\n",
    "    # Proceed if error is within specified tolerance (tol)\n",
    "    if ((r2 < -tol and alph2 < model.C) or (r2 > tol and alph2 > 0)):\n",
    "        \n",
    "        if len(model.alpha[(model.alpha != 0) & (model.alpha != model.C)]) > 1:\n",
    "            # Use 2nd choice heuristic is choose max difference in error\n",
    "            if model.errors[i2] > 0:\n",
    "                i1 = np.argmin(model.errors)\n",
    "            elif model.errors[i2] <= 0:\n",
    "                i1 = np.argmax(model.errors)\n",
    "            step_result, model = take_step(i1, i2, model)\n",
    "            if step_result:\n",
    "                return 1, model\n",
    "            \n",
    "        # Loop through non-zero and non-C alphas, starting at a random point\n",
    "        for i1 in np.roll(np.where((model.alpha != 0) & (model.alpha != model.C))[0],\n",
    "                          np.random.choice(np.arange(model.m))):\n",
    "            step_result, model = take_step(i1, i2, model)\n",
    "            if step_result:\n",
    "                return 1, model\n",
    "        \n",
    "        # Loop through all alphas, starting at a random point\n",
    "        for i1 in np.roll(np.arange(model.m), np.random.choice(np.arange(model.m))):\n",
    "            step_result, model = take_step(i1, i2, model)\n",
    "            if step_result:\n",
    "                return 1, model\n",
    "    \n",
    "    return 0, model"
   ]
  },
  {
   "cell_type": "code",
   "execution_count": 55,
   "metadata": {},
   "outputs": [],
   "source": [
    "\"\"\"take_step() computes two new  α  values, a new threshold  b , and updates the error cache.\"\"\"\n",
    "\n",
    "def take_step(i1, i2, model):\n",
    "    \n",
    "    # Skip if chosen alphas are the same\n",
    "    if i1 == i2:\n",
    "        return 0, model\n",
    "    \n",
    "    alph1 = model.alpha[i1]\n",
    "    alph2 = model.alpha[i2]\n",
    "    y1 = model.y[i1]\n",
    "    y2 = model.y[i2]\n",
    "    E1 = model.errors[i1]\n",
    "    E2 = model.errors[i2]\n",
    "    s = y1 * y2\n",
    "    \n",
    "    # Compute L & H, the bounds on new possible alpha values\n",
    "    if (y1 != y2):\n",
    "        L = max(0, alph2 - alph1)\n",
    "        H = min(model.C, model.C + alph2 - alph1)\n",
    "    elif (y1 == y2):\n",
    "        L = max(0, alph1 + alph2 - model.C)\n",
    "        H = min(model.C, alph1 + alph2)\n",
    "    if (L == H):\n",
    "        return 0, model\n",
    "\n",
    "    # Compute kernel & 2nd derivative eta\n",
    "    k11 = model.kernel(model.X[i1], model.X[i1])\n",
    "    k12 = model.kernel(model.X[i1], model.X[i2])\n",
    "    k22 = model.kernel(model.X[i2], model.X[i2])\n",
    "    eta = 2 * k12 - k11 - k22\n",
    "    \n",
    "    # Compute new alpha 2 (a2) if eta is negative\n",
    "    if (eta < 0):\n",
    "        a2 = alph2 - y2 * (E1 - E2) / eta\n",
    "        # Clip a2 based on bounds L & H\n",
    "        if L < a2 < H:\n",
    "            a2 = a2\n",
    "        elif (a2 <= L):\n",
    "            a2 = L\n",
    "        elif (a2 >= H):\n",
    "            a2 = H\n",
    "            \n",
    "    # If eta is non-negative, move new a2 to bound with greater objective function value\n",
    "    else:\n",
    "        alpha_adj = model.alpha.copy()\n",
    "        alpha_adj[i2] = L\n",
    "        # objective function output with a2 = L\n",
    "        Lobj = objective(alpha_adj, model.y, model.kernel, model.X) \n",
    "        alpha_adj[i2] = H\n",
    "        # objective function output with a2 = H\n",
    "        Hobj = objective(alpha_adj, model.y, model.kernel, model.X)\n",
    "        if Lobj > (Hobj + eps):\n",
    "            a2 = L\n",
    "        elif Lobj < (Hobj - eps):\n",
    "            a2 = H\n",
    "        else:\n",
    "            a2 = alph2\n",
    "            \n",
    "    # Push a2 to 0 or C if very close\n",
    "    if a2 < 1e-8:\n",
    "        a2 = 0.0\n",
    "    elif a2 > (model.C - 1e-8):\n",
    "        a2 = model.C\n",
    "    \n",
    "    # If examples can't be optimized within epsilon (eps), skip this pair\n",
    "    if (np.abs(a2 - alph2) < eps * (a2 + alph2 + eps)):\n",
    "        return 0, model\n",
    "    \n",
    "    # Calculate new alpha 1 (a1)\n",
    "    a1 = alph1 + s * (alph2 - a2)\n",
    "    \n",
    "    # Update threshold b to reflect newly calculated alphas\n",
    "    # Calculate both possible thresholds\n",
    "    b1 = E1 + y1 * (a1 - alph1) * k11 + y2 * (a2 - alph2) * k12 + model.b\n",
    "    b2 = E2 + y1 * (a1 - alph1) * k12 + y2 * (a2 - alph2) * k22 + model.b\n",
    "    \n",
    "    # Set new threshold based on if a1 or a2 is bound by L and/or H\n",
    "    if 0 < a1 and a1 < C:\n",
    "        b_new = b1\n",
    "    elif 0 < a2 and a2 < C:\n",
    "        b_new = b2\n",
    "    # Average thresholds if both are bound\n",
    "    else:\n",
    "        b_new = (b1 + b2) * 0.5\n",
    "\n",
    "    # Update model object with new alphas & threshold\n",
    "    model.alpha[i1] = a1\n",
    "    model.alpha[i2] = a2\n",
    "    \n",
    "    # Update error cache\n",
    "    # Error cache for optimized alphas is set to 0 if they're unbound\n",
    "    for index, alph in zip([i1, i2], [a1, a2]):\n",
    "        if 0.0 < alph < model.C:\n",
    "            model.errors[index] = 0.0\n",
    "    \n",
    "    # Set non-optimized errors based on equation 12.11 in Platt's book\n",
    "    non_opt = [n for n in range(model.m) if (n != i1 and n != i2)]\n",
    "    model.errors[non_opt] = model.errors[non_opt] + \\\n",
    "                            y1*(a1 - alph1)*model.kernel(model.X[i1], model.X[non_opt]) + \\\n",
    "                            y2*(a2 - alph2)*model.kernel(model.X[i2], model.X[non_opt]) + model.b - b_new\n",
    "    \n",
    "    # Update model threshold\n",
    "    model.b = b_new\n",
    "    \n",
    "    return 1, model"
   ]
  },
  {
   "cell_type": "code",
   "execution_count": 56,
   "metadata": {},
   "outputs": [],
   "source": [
    "#Generate linearly seperable blobs\n",
    "\n",
    "X_blobs, y = make_blobs(n_samples=1000, centers=2,\n",
    "                        n_features=2, random_state=1)"
   ]
  },
  {
   "cell_type": "code",
   "execution_count": 57,
   "metadata": {},
   "outputs": [],
   "source": [
    "#Scale data to be centered at origin with Unit Standard Deviation \n",
    "scaler = StandardScaler()\n",
    "X_blobs_scaled = scaler.fit_transform(X_blobs, y)\n",
    "#Class Labels will be 1 and -1 instead of 1 and 0\n",
    "y[y == 0] = -1"
   ]
  },
  {
   "cell_type": "code",
   "execution_count": 58,
   "metadata": {},
   "outputs": [],
   "source": [
    "#Instantiating the model with Hard Margin\n",
    "\n",
    "C = 1000.0\n",
    "m = len(X_blobs_scaled)\n",
    "initial_alpha = np.zeros(m)\n",
    "initial_b = 0\n",
    "\n",
    "# Set tolerances\n",
    "tol = 0.01 # error tolerance\n",
    "eps = 0.01 # alpha tolerance\n",
    "\n",
    "# Instantiate model\n",
    "SVM_model = SMO(X_blobs_scaled, y, C, kernel,\n",
    "                 initial_alpha, initial_b, np.zeros(m))\n",
    "\n",
    "# Initialize error cache\n",
    "initial_error = decision(SVM_model.alpha, SVM_model.y, SVM_model.kernel,\n",
    "                                  SVM_model.X, SVM_model.X, SVM_model.b) - SVM_model.y\n",
    "SVM_model.errors = initial_error"
   ]
  },
  {
   "cell_type": "code",
   "execution_count": 59,
   "metadata": {},
   "outputs": [],
   "source": [
    "#Train the model\n",
    "np.random.seed(0)\n",
    "output_blobs = train(SVM_model)"
   ]
  },
  {
   "cell_type": "code",
   "execution_count": 60,
   "metadata": {},
   "outputs": [
    {
     "data": {
      "image/png": "[encoded data removed]",
      "text/plain": [
       "<Figure size 432x288 with 1 Axes>"
      ]
     },
     "metadata": {
      "needs_background": "light"
     },
     "output_type": "display_data"
    }
   ],
   "source": [
    "fig, ax = plt.subplots()\n",
    "grid, ax = plot_decision_boundary(output_blobs, ax)"
   ]
  },
  {
   "cell_type": "code",
   "execution_count": 61,
   "metadata": {},
   "outputs": [],
   "source": [
    "#Reading the dataset\n",
    "import pandas as pd\n",
    "train_data = pd.read_csv(\"SVM_data.txt\")"
   ]
  },
  {
   "cell_type": "code",
   "execution_count": 62,
   "metadata": {},
   "outputs": [
    {
     "data": {
      "text/html": [
       "<div>\n",
       "<style scoped>\n",
       "    .dataframe tbody tr th:only-of-type {\n",
       "        vertical-align: middle;\n",
       "    }\n",
       "\n",
       "    .dataframe tbody tr th {\n",
       "        vertical-align: top;\n",
       "    }\n",
       "\n",
       "    .dataframe thead th {\n",
       "        text-align: right;\n",
       "    }\n",
       "</style>\n",
       "<table border=\"1\" class=\"dataframe\">\n",
       "  <thead>\n",
       "    <tr style=\"text-align: right;\">\n",
       "      <th></th>\n",
       "      <th>c1</th>\n",
       "      <th>c2</th>\n",
       "      <th>label</th>\n",
       "    </tr>\n",
       "  </thead>\n",
       "  <tbody>\n",
       "    <tr>\n",
       "      <th>0</th>\n",
       "      <td>243</td>\n",
       "      <td>3</td>\n",
       "      <td>-1</td>\n",
       "    </tr>\n",
       "    <tr>\n",
       "      <th>1</th>\n",
       "      <td>116</td>\n",
       "      <td>165</td>\n",
       "      <td>1</td>\n",
       "    </tr>\n",
       "    <tr>\n",
       "      <th>2</th>\n",
       "      <td>198</td>\n",
       "      <td>127</td>\n",
       "      <td>-1</td>\n",
       "    </tr>\n",
       "    <tr>\n",
       "      <th>3</th>\n",
       "      <td>184</td>\n",
       "      <td>234</td>\n",
       "      <td>1</td>\n",
       "    </tr>\n",
       "    <tr>\n",
       "      <th>4</th>\n",
       "      <td>165</td>\n",
       "      <td>231</td>\n",
       "      <td>1</td>\n",
       "    </tr>\n",
       "    <tr>\n",
       "      <th>5</th>\n",
       "      <td>160</td>\n",
       "      <td>46</td>\n",
       "      <td>-1</td>\n",
       "    </tr>\n",
       "    <tr>\n",
       "      <th>6</th>\n",
       "      <td>70</td>\n",
       "      <td>169</td>\n",
       "      <td>1</td>\n",
       "    </tr>\n",
       "    <tr>\n",
       "      <th>7</th>\n",
       "      <td>300</td>\n",
       "      <td>94</td>\n",
       "      <td>-1</td>\n",
       "    </tr>\n",
       "    <tr>\n",
       "      <th>8</th>\n",
       "      <td>95</td>\n",
       "      <td>62</td>\n",
       "      <td>-1</td>\n",
       "    </tr>\n",
       "    <tr>\n",
       "      <th>9</th>\n",
       "      <td>61</td>\n",
       "      <td>186</td>\n",
       "      <td>1</td>\n",
       "    </tr>\n",
       "  </tbody>\n",
       "</table>\n",
       "</div>"
      ],
      "text/plain": [
       "    c1   c2  label\n",
       "0  243    3     -1\n",
       "1  116  165      1\n",
       "2  198  127     -1\n",
       "3  184  234      1\n",
       "4  165  231      1\n",
       "5  160   46     -1\n",
       "6   70  169      1\n",
       "7  300   94     -1\n",
       "8   95   62     -1\n",
       "9   61  186      1"
      ]
     },
     "execution_count": 62,
     "metadata": {},
     "output_type": "execute_result"
    }
   ],
   "source": [
    "train_data.head(10)"
   ]
  },
  {
   "cell_type": "code",
   "execution_count": 63,
   "metadata": {},
   "outputs": [],
   "source": [
    "#Splitting data as X and Y\n",
    "X_train = train_data.iloc[:,:-1]\n",
    "Y_train = train_data.iloc[:,-1]"
   ]
  },
  {
   "cell_type": "code",
   "execution_count": 64,
   "metadata": {},
   "outputs": [],
   "source": [
    "#Scale data to be centered at origin with Unit Standard Deviation \n",
    "scaler = StandardScaler()\n",
    "X_train_scaled = scaler.fit_transform(X_train, Y_train)"
   ]
  },
  {
   "cell_type": "code",
   "execution_count": 65,
   "metadata": {},
   "outputs": [],
   "source": [
    "#Instantiating the model with Hard Margin\n",
    "C = 1000.0\n",
    "m = len(X_train_scaled)\n",
    "initial_alpha = np.zeros(m)\n",
    "initial_b = 0\n",
    "\n",
    "# Set tolerances\n",
    "tol = 0.01 # error tolerance\n",
    "eps = 0.01 # alpha tolerance\n",
    "\n",
    "# Instantiate model\n",
    "model = SMO(X_train_scaled, Y_train, C, kernel,\n",
    "                 initial_alpha, initial_b, np.zeros(m))"
   ]
  },
  {
   "cell_type": "code",
   "execution_count": 66,
   "metadata": {},
   "outputs": [],
   "source": [
    "# Initialize error cache\n",
    "initial_error = decision(model.alpha, model.y, model.kernel,\n",
    "                                  model.X, model.X, model.b) - model.y\n",
    "model.errors = initial_error"
   ]
  },
  {
   "cell_type": "code",
   "execution_count": 67,
   "metadata": {},
   "outputs": [
    {
     "name": "stderr",
     "output_type": "stream",
     "text": [
      "C:\\Users\\bnama\\Anaconda3\\lib\\site-packages\\numpy\\core\\fromnumeric.py:56: FutureWarning: \n",
      "The current behaviour of 'Series.argmin' is deprecated, use 'idxmin'\n",
      "instead.\n",
      "The behavior of 'argmin' will be corrected to return the positional\n",
      "minimum in the future. For now, use 'series.values.argmin' or\n",
      "'np.argmin(np.array(values))' to get the position of the minimum\n",
      "row.\n",
      "  return getattr(obj, method)(*args, **kwds)\n",
      "C:\\Users\\bnama\\Anaconda3\\lib\\site-packages\\numpy\\core\\fromnumeric.py:56: FutureWarning: \n",
      "The current behaviour of 'Series.argmax' is deprecated, use 'idxmax'\n",
      "instead.\n",
      "The behavior of 'argmax' will be corrected to return the positional\n",
      "maximum in the future. For now, use 'series.values.argmax' or\n",
      "'np.argmax(np.array(values))' to get the position of the maximum\n",
      "row.\n",
      "  return getattr(obj, method)(*args, **kwds)\n"
     ]
    }
   ],
   "source": [
    "#Train the model\n",
    "np.random.seed(0)\n",
    "output = train(model)"
   ]
  },
  {
   "cell_type": "code",
   "execution_count": 68,
   "metadata": {},
   "outputs": [],
   "source": [
    "#Plot the decision boundary to generate the classification labels\n",
    "\n",
    "def plot_decision_boundary(model, ax, resolution=100, colors=('r', 'k', 'r'), levels=(-1, 0, 1)):\n",
    "        xrange = np.linspace(model.X[:,0].min(), model.X[:,0].max(), resolution)\n",
    "        yrange = np.linspace(model.X[:,1].min(), model.X[:,1].max(), resolution)\n",
    "        grid = [[decision(model.alpha, model.y,\n",
    "                                   model.kernel, model.X,\n",
    "                                   np.array([xr, yr]), model.b) for xr in xrange] for yr in yrange]\n",
    "        grid = np.array(grid).reshape(len(xrange), len(yrange))\n",
    "        \n",
    "        \n",
    "        ax.contour(xrange, yrange, grid, levels=levels, linewidths=(1, 1, 1),\n",
    "                   linestyles=('--', '-', '--'), colors=colors)\n",
    "        ax.scatter(model.X[:,0], model.X[:,1],\n",
    "                   c=model.y, cmap=plt.cm.viridis, lw=0, alpha=0.25)\n",
    "        \n",
    "        mask = np.round(model.alpha, decimals=2) != 0.0\n",
    "        ax.scatter(model.X[mask,0], model.X[mask,1],\n",
    "                   c=model.y[mask], cmap=plt.cm.viridis, lw=1, edgecolors='k')\n",
    "        \n",
    "        return grid, ax"
   ]
  },
  {
   "cell_type": "code",
   "execution_count": 69,
   "metadata": {},
   "outputs": [
    {
     "data": {
      "image/png": "[encoded data removed]",
      "text/plain": [
       "<Figure size 432x288 with 1 Axes>"
      ]
     },
     "metadata": {
      "needs_background": "light"
     },
     "output_type": "display_data"
    }
   ],
   "source": [
    "fig, ax = plt.subplots()\n",
    "grid, ax = plot_decision_boundary(output, ax)"
   ]
  }
 ],
 "metadata": {
  "kernelspec": {
   "display_name": "Python 3",
   "language": "python",
   "name": "python3"
  },
  "language_info": {
   "codemirror_mode": {
    "name": "ipython",
    "version": 3
   },
   "file_extension": ".py",
   "mimetype": "text/x-python",
   "name": "python",
   "nbconvert_exporter": "python",
   "pygments_lexer": "ipython3",
   "version": "3.7.3"
  }
 },
 "nbformat": 4,
 "nbformat_minor": 2
}
